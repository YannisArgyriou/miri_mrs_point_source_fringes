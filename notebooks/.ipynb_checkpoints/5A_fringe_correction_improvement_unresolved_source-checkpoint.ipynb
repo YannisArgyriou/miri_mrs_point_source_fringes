{
 "cells": [
  {
   "cell_type": "markdown",
   "metadata": {},
   "source": [
    "# Show fringe correction improvement on point source integrated spectrum"
   ]
  },
  {
   "cell_type": "markdown",
   "metadata": {},
   "source": [
    "### Define path to data and set flags"
   ]
  },
  {
   "cell_type": "markdown",
   "metadata": {},
   "source": [
    "### <font color='green'> --Modify following path to the folder where the miri_mrs_point_source_fringes folder resides </font>"
   ]
  },
  {
   "cell_type": "code",
   "execution_count": 1,
   "metadata": {},
   "outputs": [],
   "source": [
    "user_dir = '/Users/ioannisa/Desktop/python/miri_mrs_point_source_fringes/'"
   ]
  },
  {
   "cell_type": "markdown",
   "metadata": {},
   "source": [
    "### <font color='green'> --Choose if you wish to save plots (default is True) </font>"
   ]
  },
  {
   "cell_type": "code",
   "execution_count": 2,
   "metadata": {},
   "outputs": [],
   "source": [
    "save_plots = True"
   ]
  },
  {
   "cell_type": "markdown",
   "metadata": {},
   "source": [
    "### <font color='red'> --Do NOT change following paths </font>"
   ]
  },
  {
   "cell_type": "code",
   "execution_count": 3,
   "metadata": {},
   "outputs": [],
   "source": [
    "datapath   = user_dir+'data/'\n",
    "figurepath = user_dir+'figures/'\n",
    "outputpath = user_dir+'output_files/'"
   ]
  },
  {
   "cell_type": "code",
   "execution_count": 4,
   "metadata": {},
   "outputs": [],
   "source": [
    "import itertools\n",
    "import numpy as np\n",
    "from astropy.io import fits\n",
    "from scipy.ndimage import gaussian_filter\n",
    "from matplotlib import pyplot as plt\n",
    "from matplotlib.lines import Line2D\n",
    "\n",
    "import sys\n",
    "sys.path.append(user_dir)\n",
    "from core.funcs import detpixel_trace,detpixel_isolambda"
   ]
  },
  {
   "cell_type": "code",
   "execution_count": 5,
   "metadata": {},
   "outputs": [],
   "source": [
    "%matplotlib notebook"
   ]
  },
  {
   "cell_type": "markdown",
   "metadata": {},
   "source": [
    "### Preamble"
   ]
  },
  {
   "cell_type": "markdown",
   "metadata": {},
   "source": [
    "### --MRS auxilliary data"
   ]
  },
  {
   "cell_type": "code",
   "execution_count": 6,
   "metadata": {},
   "outputs": [],
   "source": [
    "band = '1A'\n",
    "nslices = 21"
   ]
  },
  {
   "cell_type": "markdown",
   "metadata": {},
   "source": [
    "### --Load distortion maps"
   ]
  },
  {
   "cell_type": "code",
   "execution_count": 7,
   "metadata": {},
   "outputs": [],
   "source": [
    "d2cMaps = {'sliceMap':np.load(datapath+'sliceMap.npy'),\n",
    "           'lambdaMap':np.load(datapath+'lambdaMap.npy'),\n",
    "           'alphaMap':np.load(datapath+'alphaMap.npy'),\n",
    "           'betaMap':np.load(datapath+'betaMap.npy'),\n",
    "           'nslices':nslices}"
   ]
  },
  {
   "cell_type": "markdown",
   "metadata": {},
   "source": [
    "### --Load data"
   ]
  },
  {
   "cell_type": "code",
   "execution_count": 8,
   "metadata": {},
   "outputs": [],
   "source": [
    "sci_img        = fits.open(datapath+'CV2_P0.fits')[1].data\n",
    "fringe_flat    = np.load(datapath+'fringe_flat.npy')\n",
    "spectral_response = np.load(datapath+'spectral_response.npy')"
   ]
  },
  {
   "cell_type": "markdown",
   "metadata": {},
   "source": [
    "### --Apply spectral response correction"
   ]
  },
  {
   "cell_type": "code",
   "execution_count": 9,
   "metadata": {},
   "outputs": [],
   "source": [
    "sci_img /= spectral_response"
   ]
  },
  {
   "cell_type": "markdown",
   "metadata": {},
   "source": [
    "### --Load point source fringe flat from notebook 4"
   ]
  },
  {
   "cell_type": "code",
   "execution_count": 10,
   "metadata": {},
   "outputs": [],
   "source": [
    "ps_fringe_flat = np.load(outputpath+'ps_fringe_flat.npy')"
   ]
  },
  {
   "cell_type": "markdown",
   "metadata": {},
   "source": [
    "### Spectral analysis"
   ]
  },
  {
   "cell_type": "markdown",
   "metadata": {},
   "source": [
    "### --Define spectral grid"
   ]
  },
  {
   "cell_type": "code",
   "execution_count": 11,
   "metadata": {},
   "outputs": [],
   "source": [
    "ypos,xpos = detpixel_trace(band,d2cMaps,sliceID=int(nslices/2),alpha_pos=0.)\n",
    "wav_array = d2cMaps['lambdaMap'][ypos,xpos]"
   ]
  },
  {
   "cell_type": "markdown",
   "metadata": {},
   "source": [
    "### --Initialize placeholders"
   ]
  },
  {
   "cell_type": "code",
   "execution_count": 12,
   "metadata": {},
   "outputs": [],
   "source": [
    "integrated_spectrum_no_correction  = np.zeros(len(ypos))\n",
    "integrated_spectrum_fringe_flat    = np.zeros(len(ypos))\n",
    "integrated_spectrum_ps_fringe_flat = np.zeros(len(ypos))"
   ]
  },
  {
   "cell_type": "markdown",
   "metadata": {},
   "source": [
    "### --Produce calibrated datasets"
   ]
  },
  {
   "cell_type": "code",
   "execution_count": 13,
   "metadata": {},
   "outputs": [],
   "source": [
    "cal_img_no_correction  = sci_img.copy()\n",
    "cal_img_fringe_flat    = sci_img/fringe_flat\n",
    "cal_img_ps_fringe_flat = sci_img/ps_fringe_flat"
   ]
  },
  {
   "cell_type": "markdown",
   "metadata": {},
   "source": [
    "### --Compute an integrate spectrum"
   ]
  },
  {
   "cell_type": "code",
   "execution_count": null,
   "metadata": {},
   "outputs": [
    {
     "name": "stdout",
     "output_type": "stream",
     "text": [
      "Halfway there..\n"
     ]
    }
   ],
   "source": [
    "for i,wav in enumerate(wav_array):\n",
    "    if i == int(len(wav_array)/2):\n",
    "        print('Halfway there..')\n",
    "    valid_img = np.zeros((1024,1032))\n",
    "    for sliceID in range(1,nslices+1):\n",
    "        try:\n",
    "            ypos,xpos = detpixel_isolambda(band,d2cMaps,sliceID=sliceID,lambda_pos=wav)\n",
    "        except IndexError:\n",
    "            continue\n",
    "        valid_img[ypos,xpos] = 1\n",
    "    \n",
    "    integrated_spectrum_no_correction[i]  = np.sum(( cal_img_no_correction *valid_img)[~np.isnan(cal_img_no_correction)])\n",
    "    integrated_spectrum_fringe_flat[i]    = np.sum(( cal_img_fringe_flat *valid_img)[~np.isnan(cal_img_fringe_flat)])\n",
    "    integrated_spectrum_ps_fringe_flat[i] = np.sum(( cal_img_ps_fringe_flat *valid_img)[~np.isnan(cal_img_ps_fringe_flat)])\n",
    "print('DONE')"
   ]
  },
  {
   "cell_type": "markdown",
   "metadata": {},
   "source": [
    "### --Plot fringe correction comparison"
   ]
  },
  {
   "cell_type": "code",
   "execution_count": null,
   "metadata": {},
   "outputs": [],
   "source": [
    "plt.figure(figsize=(12,4))\n",
    "plt.plot(wav_array[20:-20],integrated_spectrum_no_correction[20:-20],label='no correction')\n",
    "plt.plot(wav_array[20:-20],integrated_spectrum_fringe_flat[20:-20],label='fringe_flat')\n",
    "plt.plot(wav_array[20:-20],integrated_spectrum_ps_fringe_flat[20:-20],label='ps_fringe_flat')\n",
    "plt.xlabel('Wavelength [micron]')\n",
    "plt.ylabel('Signal [DN/s]')\n",
    "plt.title('CV2_P0')\n",
    "plt.legend()\n",
    "plt.tight_layout()"
   ]
  },
  {
   "cell_type": "markdown",
   "metadata": {},
   "source": [
    "### --Smooth the remaining signal to try to estimate the residual fringes"
   ]
  },
  {
   "cell_type": "code",
   "execution_count": null,
   "metadata": {},
   "outputs": [],
   "source": [
    "residuals_no_correction  = 100*((integrated_spectrum_no_correction/gaussian_filter(integrated_spectrum_no_correction,5))-1)\n",
    "residuals_fringe_flat    = 100*((integrated_spectrum_fringe_flat/gaussian_filter(integrated_spectrum_fringe_flat,5))-1)\n",
    "residuals_ps_fringe_flat = 100*((integrated_spectrum_ps_fringe_flat/gaussian_filter(integrated_spectrum_ps_fringe_flat,5))-1)\n",
    "\n",
    "plt.figure(figsize=(12,4))\n",
    "plt.plot(wav_array[20:-20],residuals_no_correction[20:-20],label='no correction',zorder=0)\n",
    "plt.plot(wav_array[20:-20],residuals_fringe_flat[20:-20]+10,label='fringe_flat+10%',zorder=1)\n",
    "plt.plot(wav_array[20:-20],residuals_ps_fringe_flat[20:-20]+20,label='ps_fringe_flat+20%',zorder=2)\n",
    "plt.ylim(-10,35)\n",
    "plt.xlabel('Wavelength [micron]')\n",
    "plt.ylabel('Residuals [%]')\n",
    "plt.legend()\n",
    "plt.tight_layout()\n",
    "\n",
    "print('Standard deviation - no correction: {} %'.format( round(np.std(residuals_no_correction[20:-20]),2) ))\n",
    "print('Standard deviation - fringe_flat: {} %'.format( round(np.std(residuals_fringe_flat[20:-20]),2) ))\n",
    "print('Standard deviation - ps_fringe_flat: {} %'.format( round(np.std(residuals_ps_fringe_flat[20:-20]),2) ))"
   ]
  },
  {
   "cell_type": "code",
   "execution_count": null,
   "metadata": {},
   "outputs": [],
   "source": []
  }
 ],
 "metadata": {
  "kernelspec": {
   "display_name": "Python 3",
   "language": "python",
   "name": "python3"
  },
  "language_info": {
   "codemirror_mode": {
    "name": "ipython",
    "version": 3
   },
   "file_extension": ".py",
   "mimetype": "text/x-python",
   "name": "python",
   "nbconvert_exporter": "python",
   "pygments_lexer": "ipython3",
   "version": "3.6.8"
  }
 },
 "nbformat": 4,
 "nbformat_minor": 2
}
